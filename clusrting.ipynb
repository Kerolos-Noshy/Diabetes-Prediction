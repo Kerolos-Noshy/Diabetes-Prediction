{
 "cells": [
  {
   "cell_type": "markdown",
   "metadata": {},
   "source": [
    "## Import Libraries "
   ]
  },
  {
   "cell_type": "code",
   "execution_count": 62,
   "metadata": {},
   "outputs": [],
   "source": [
    "import pandas as pd\n",
    "import numpy as np\n",
    "\n",
    "import matplotlib.pyplot as plt\n",
    "import seaborn as sns\n",
    "from sklearn.neighbors import NearestNeighbors\n",
    "from sklearn.cluster import DBSCAN,KMeans\n",
    "from sklearn.preprocessing import StandardScaler,MinMaxScaler\n",
    "from sklearn.metrics import silhouette_score ,homogeneity_score, completeness_score, v_measure_score,adjusted_rand_score\n",
    "\n",
    "from sklearn_extra.cluster import KMedoids\n"
   ]
  },
  {
   "cell_type": "markdown",
   "metadata": {},
   "source": [
    "## load Data\n"
   ]
  },
  {
   "cell_type": "code",
   "execution_count": 63,
   "metadata": {},
   "outputs": [
    {
     "name": "stdout",
     "output_type": "stream",
     "text": [
      "CLASS\n",
      "2    587\n",
      "0     56\n",
      "1     36\n",
      "Name: count, dtype: int64\n"
     ]
    }
   ],
   "source": [
    "data=pd.read_csv('filtered_data.csv')\n",
    "print(data['CLASS'].value_counts())\n",
    "\n",
    "filteredData=data.drop(['CLASS','ID','No_Pation','HDL'],axis=1)\n"
   ]
  },
  {
   "cell_type": "code",
   "execution_count": 64,
   "metadata": {},
   "outputs": [],
   "source": [
    "true_labels=data[\"CLASS\"].values\n"
   ]
  },
  {
   "cell_type": "code",
   "execution_count": 65,
   "metadata": {},
   "outputs": [
    {
     "data": {
      "text/html": [
       "<div>\n",
       "<style scoped>\n",
       "    .dataframe tbody tr th:only-of-type {\n",
       "        vertical-align: middle;\n",
       "    }\n",
       "\n",
       "    .dataframe tbody tr th {\n",
       "        vertical-align: top;\n",
       "    }\n",
       "\n",
       "    .dataframe thead th {\n",
       "        text-align: right;\n",
       "    }\n",
       "</style>\n",
       "<table border=\"1\" class=\"dataframe\">\n",
       "  <thead>\n",
       "    <tr style=\"text-align: right;\">\n",
       "      <th></th>\n",
       "      <th>Gender</th>\n",
       "      <th>AGE</th>\n",
       "      <th>Urea</th>\n",
       "      <th>Cr</th>\n",
       "      <th>HbA1c</th>\n",
       "      <th>Chol</th>\n",
       "      <th>TG</th>\n",
       "      <th>LDL</th>\n",
       "      <th>VLDL</th>\n",
       "      <th>BMI</th>\n",
       "    </tr>\n",
       "  </thead>\n",
       "  <tbody>\n",
       "    <tr>\n",
       "      <th>0</th>\n",
       "      <td>0</td>\n",
       "      <td>-1.753516</td>\n",
       "      <td>2.3</td>\n",
       "      <td>24</td>\n",
       "      <td>4.0</td>\n",
       "      <td>2.9</td>\n",
       "      <td>1.0</td>\n",
       "      <td>1.5</td>\n",
       "      <td>0.4</td>\n",
       "      <td>-1.861247</td>\n",
       "    </tr>\n",
       "    <tr>\n",
       "      <th>1</th>\n",
       "      <td>0</td>\n",
       "      <td>-0.859644</td>\n",
       "      <td>2.0</td>\n",
       "      <td>50</td>\n",
       "      <td>4.0</td>\n",
       "      <td>3.6</td>\n",
       "      <td>1.3</td>\n",
       "      <td>2.1</td>\n",
       "      <td>0.6</td>\n",
       "      <td>-1.206898</td>\n",
       "    </tr>\n",
       "    <tr>\n",
       "      <th>2</th>\n",
       "      <td>1</td>\n",
       "      <td>-1.217193</td>\n",
       "      <td>4.7</td>\n",
       "      <td>47</td>\n",
       "      <td>4.0</td>\n",
       "      <td>2.9</td>\n",
       "      <td>0.8</td>\n",
       "      <td>1.6</td>\n",
       "      <td>0.4</td>\n",
       "      <td>-1.206898</td>\n",
       "    </tr>\n",
       "    <tr>\n",
       "      <th>3</th>\n",
       "      <td>0</td>\n",
       "      <td>-1.753516</td>\n",
       "      <td>4.6</td>\n",
       "      <td>54</td>\n",
       "      <td>5.1</td>\n",
       "      <td>4.2</td>\n",
       "      <td>1.7</td>\n",
       "      <td>2.2</td>\n",
       "      <td>0.8</td>\n",
       "      <td>-1.425014</td>\n",
       "    </tr>\n",
       "    <tr>\n",
       "      <th>4</th>\n",
       "      <td>0</td>\n",
       "      <td>-0.859644</td>\n",
       "      <td>3.5</td>\n",
       "      <td>39</td>\n",
       "      <td>4.0</td>\n",
       "      <td>4.0</td>\n",
       "      <td>1.5</td>\n",
       "      <td>2.2</td>\n",
       "      <td>0.7</td>\n",
       "      <td>-1.206898</td>\n",
       "    </tr>\n",
       "    <tr>\n",
       "      <th>...</th>\n",
       "      <td>...</td>\n",
       "      <td>...</td>\n",
       "      <td>...</td>\n",
       "      <td>...</td>\n",
       "      <td>...</td>\n",
       "      <td>...</td>\n",
       "      <td>...</td>\n",
       "      <td>...</td>\n",
       "      <td>...</td>\n",
       "      <td>...</td>\n",
       "    </tr>\n",
       "    <tr>\n",
       "      <th>674</th>\n",
       "      <td>1</td>\n",
       "      <td>1.285649</td>\n",
       "      <td>6.3</td>\n",
       "      <td>82</td>\n",
       "      <td>6.7</td>\n",
       "      <td>5.3</td>\n",
       "      <td>2.0</td>\n",
       "      <td>3.5</td>\n",
       "      <td>0.9</td>\n",
       "      <td>0.123610</td>\n",
       "    </tr>\n",
       "    <tr>\n",
       "      <th>675</th>\n",
       "      <td>0</td>\n",
       "      <td>0.391777</td>\n",
       "      <td>4.1</td>\n",
       "      <td>70</td>\n",
       "      <td>9.3</td>\n",
       "      <td>5.3</td>\n",
       "      <td>3.3</td>\n",
       "      <td>1.4</td>\n",
       "      <td>1.3</td>\n",
       "      <td>-0.116318</td>\n",
       "    </tr>\n",
       "    <tr>\n",
       "      <th>676</th>\n",
       "      <td>0</td>\n",
       "      <td>0.034228</td>\n",
       "      <td>4.1</td>\n",
       "      <td>34</td>\n",
       "      <td>13.9</td>\n",
       "      <td>5.4</td>\n",
       "      <td>1.6</td>\n",
       "      <td>3.1</td>\n",
       "      <td>0.7</td>\n",
       "      <td>0.756146</td>\n",
       "    </tr>\n",
       "    <tr>\n",
       "      <th>677</th>\n",
       "      <td>1</td>\n",
       "      <td>0.034228</td>\n",
       "      <td>3.1</td>\n",
       "      <td>39</td>\n",
       "      <td>8.5</td>\n",
       "      <td>5.0</td>\n",
       "      <td>2.5</td>\n",
       "      <td>2.9</td>\n",
       "      <td>0.7</td>\n",
       "      <td>-0.552550</td>\n",
       "    </tr>\n",
       "    <tr>\n",
       "      <th>678</th>\n",
       "      <td>1</td>\n",
       "      <td>-0.144547</td>\n",
       "      <td>5.0</td>\n",
       "      <td>67</td>\n",
       "      <td>6.9</td>\n",
       "      <td>3.8</td>\n",
       "      <td>1.7</td>\n",
       "      <td>3.0</td>\n",
       "      <td>0.7</td>\n",
       "      <td>0.756146</td>\n",
       "    </tr>\n",
       "  </tbody>\n",
       "</table>\n",
       "<p>679 rows × 10 columns</p>\n",
       "</div>"
      ],
      "text/plain": [
       "     Gender       AGE  Urea  Cr  HbA1c  Chol   TG  LDL  VLDL       BMI\n",
       "0         0 -1.753516   2.3  24    4.0   2.9  1.0  1.5   0.4 -1.861247\n",
       "1         0 -0.859644   2.0  50    4.0   3.6  1.3  2.1   0.6 -1.206898\n",
       "2         1 -1.217193   4.7  47    4.0   2.9  0.8  1.6   0.4 -1.206898\n",
       "3         0 -1.753516   4.6  54    5.1   4.2  1.7  2.2   0.8 -1.425014\n",
       "4         0 -0.859644   3.5  39    4.0   4.0  1.5  2.2   0.7 -1.206898\n",
       "..      ...       ...   ...  ..    ...   ...  ...  ...   ...       ...\n",
       "674       1  1.285649   6.3  82    6.7   5.3  2.0  3.5   0.9  0.123610\n",
       "675       0  0.391777   4.1  70    9.3   5.3  3.3  1.4   1.3 -0.116318\n",
       "676       0  0.034228   4.1  34   13.9   5.4  1.6  3.1   0.7  0.756146\n",
       "677       1  0.034228   3.1  39    8.5   5.0  2.5  2.9   0.7 -0.552550\n",
       "678       1 -0.144547   5.0  67    6.9   3.8  1.7  3.0   0.7  0.756146\n",
       "\n",
       "[679 rows x 10 columns]"
      ]
     },
     "execution_count": 65,
     "metadata": {},
     "output_type": "execute_result"
    }
   ],
   "source": [
    "filteredData"
   ]
  },
  {
   "cell_type": "markdown",
   "metadata": {},
   "source": [
    "## Db Scan"
   ]
  },
  {
   "cell_type": "code",
   "execution_count": 66,
   "metadata": {},
   "outputs": [],
   "source": [
    "normalizer = MinMaxScaler()\n",
    "\n",
    "for col in filteredData.columns:\n",
    "    \n",
    "    filteredData[col] = normalizer.fit_transform(filteredData[col].values.reshape(-1, 1))\n",
    "\n",
    "\n",
    "\n"
   ]
  },
  {
   "cell_type": "code",
   "execution_count": 67,
   "metadata": {},
   "outputs": [
    {
     "data": {
      "image/png": "[encoded data removed]",
      "text/plain": [
       "<Figure size 640x480 with 1 Axes>"
      ]
     },
     "metadata": {},
     "output_type": "display_data"
    }
   ],
   "source": [
    "min_samples = 21 # rule of thumb\n",
    "\n",
    "neighbors = NearestNeighbors(n_neighbors=min_samples)\n",
    "\n",
    "neighbors_fit = neighbors.fit(filteredData)\n",
    "\n",
    "distances, indices = neighbors_fit.kneighbors(filteredData)\n",
    "\n",
    "# Sort distances for the k-th nearest neighbor\n",
    "distances = np.sort(distances[:, -1])\n",
    "plt.plot(distances)\n",
    "plt.title('K-Distance Graph')\n",
    "plt.xlabel('Points sorted by distance')\n",
    "plt.ylabel(f'{min_samples}-th Nearest Neighbor Distance')\n",
    "plt.show()\n"
   ]
  },
  {
   "cell_type": "markdown",
   "metadata": {},
   "source": [
    "### from the graph eps is approximatley equal 0.4 (the elbow)\n",
    "\n",
    "## Iterate to get best eps"
   ]
  },
  {
   "cell_type": "code",
   "execution_count": 68,
   "metadata": {},
   "outputs": [
    {
     "name": "stdout",
     "output_type": "stream",
     "text": [
      "[-1 -1 -1  0  0 -1 -1 -1 -1 -1 -1  0 -1  0 -1 -1 -1 -1 -1 -1  0 -1 -1 -1\n",
      "  1  0  1 -1 -1  0 -1 -1 -1 -1  0 -1 -1 -1 -1 -1 -1 -1 -1  0  0 -1 -1 -1\n",
      " -1 -1 -1 -1 -1 -1 -1 -1 -1 -1  1 -1  1  1 -1 -1 -1 -1  1 -1  0  1  0  1\n",
      "  0 -1  1 -1  1 -1 -1 -1 -1 -1  1  1  1  1  1 -1 -1 -1 -1 -1 -1 -1 -1  0\n",
      " -1 -1 -1 -1  0 -1 -1 -1 -1 -1 -1 -1 -1 -1 -1  0 -1  0  0  0 -1  0  0 -1\n",
      " -1 -1 -1 -1 -1 -1 -1 -1 -1 -1 -1 -1 -1 -1  1 -1 -1 -1  1 -1 -1 -1 -1  1\n",
      " -1  2 -1  1 -1  2 -1 -1 -1 -1 -1 -1  2  1 -1 -1  1 -1 -1 -1  1 -1 -1 -1\n",
      " -1 -1 -1 -1 -1  2  1 -1  1 -1  1  1 -1 -1 -1  6 -1  6  2 -1 -1  2 -1  1\n",
      " -1 -1 -1  1 -1 -1 -1 -1 -1  1 -1  1 -1  2  1  3 -1 -1 -1  3  3 -1  1  1\n",
      " -1  1  3 -1  2 -1  1  1 -1 -1 -1 -1 -1 -1 -1 -1 -1 -1 -1 -1 -1 -1  2  1\n",
      "  1 -1 -1 -1 -1 -1  2  2  1  1  2 -1  1 -1  1  1 -1 -1  1 -1  1 -1  1 -1\n",
      "  1 -1 -1  1 -1  2 -1  1 -1  2  1 -1  1 -1 -1  2 -1  1 -1 -1 -1  2 -1 -1\n",
      " -1  1  1 -1 -1  2 -1  1 -1  2 -1 -1 -1 -1 -1 -1 -1  4 -1 -1 -1 -1 -1 -1\n",
      " -1 -1  2 -1 -1 -1 -1 -1 -1  2 -1 -1 -1 -1  1 -1  1 -1  1 -1  1  3 -1  3\n",
      " -1  1  1  1 -1  2 -1 -1 -1 -1 -1  2  4 -1 -1 -1 -1 -1 -1  1  1 -1 -1 -1\n",
      "  1  2 -1 -1  5 -1 -1 -1 -1 -1 -1 -1 -1 -1 -1 -1 -1 -1 -1 -1  6  5  1  4\n",
      "  2 -1  6 -1 -1 -1 -1 -1 -1 -1 -1 -1  2 -1 -1  1  1 -1 -1  2  2  1  2 -1\n",
      " -1 -1  5 -1 -1  2 -1 -1 -1 -1 -1 -1 -1  2 -1  1  2  1 -1 -1 -1  1 -1 -1\n",
      " -1 -1  1  1  1  1  2 -1 -1 -1 -1 -1 -1 -1 -1  1  1  2 -1  1 -1  1  2  1\n",
      "  1  2  1 -1 -1 -1 -1  1 -1 -1  1 -1 -1 -1 -1  2 -1 -1 -1 -1 -1  4 -1 -1\n",
      " -1 -1 -1 -1 -1 -1  1 -1 -1 -1 -1 -1  2  2 -1 -1 -1 -1 -1 -1 -1 -1 -1 -1\n",
      " -1 -1 -1 -1  4 -1 -1 -1 -1 -1 -1 -1 -1 -1 -1 -1 -1 -1 -1 -1 -1  1 -1 -1\n",
      " -1  1 -1  1 -1  2 -1  1  1 -1 -1 -1 -1 -1 -1 -1 -1 -1 -1 -1 -1 -1 -1 -1\n",
      " -1 -1 -1 -1 -1 -1 -1 -1 -1 -1 -1 -1 -1  4 -1 -1 -1 -1 -1 -1 -1 -1  1  1\n",
      " -1 -1 -1  1 -1 -1 -1  1  1 -1  1 -1 -1  1 -1 -1  1 -1  6 -1 -1 -1  1 -1\n",
      "  1 -1  6 -1 -1 -1 -1 -1  6 -1 -1 -1 -1  2 -1  1 -1 -1 -1 -1 -1 -1 -1 -1\n",
      " -1 -1 -1 -1  1  1  1 -1 -1 -1 -1  3 -1 -1  4 -1  1 -1  2 -1 -1 -1 -1 -1\n",
      " -1 -1 -1 -1 -1 -1 -1 -1 -1 -1 -1 -1 -1 -1 -1 -1 -1 -1 -1 -1 -1 -1 -1 -1\n",
      "  1 -1  1 -1 -1 -1  1]\n",
      "[ 0  0  1  0  0  1  0  0  0  0  1  0 -1  0 -1  0  0 -1  1  1  0  0  1 -1\n",
      "  1  0  1  0  1  0  0  0  0  0  0  1 -1  1 -1  1 -1 -1  0  0  0 -1  1  0\n",
      " -1 -1 -1 -1  1 -1  0  0 -1  1  1 -1  1  1  0 -1  0 -1  1  0  0  1  0  1\n",
      "  0 -1  1  1  1  0 -1  0  1  1  1  1  1  1  1 -1 -1  1  1 -1 -1  0  0  0\n",
      " -1  1  1 -1  0  0  0  1  1 -1 -1 -1  0  0  0  0  1  0  0  0  0  0  0 -1\n",
      "  1 -1 -1 -1 -1  1  1 -1  1 -1 -1  1  1  1  1  1  1  1  1  1 -1 -1 -1  1\n",
      " -1  0 -1  1 -1  0 -1  0  0  0 -1  0  0  1 -1  1  1  1  1 -1  1 -1 -1  1\n",
      " -1  0  0 -1 -1  0  1  1  1  1  1  1  0  0  1  0  1  0  0  0 -1  0 -1  1\n",
      "  1 -1  0  1  1  0  0 -1  0  1  0  1  0  0  1  1  0  1  1  1  1  0  1  1\n",
      "  1  1  1  1  0  0  1  1  0  0  0  0  0  1  1 -1  1 -1 -1  1 -1 -1  0  1\n",
      "  1 -1  1 -1 -1  1  0  0  1  1  0  1  1  1  1  1 -1 -1  1 -1  1 -1  1  1\n",
      "  1  1  0  1  0  0  1  1  1  0  1  1  1  0 -1  0 -1  1  1  0 -1  0 -1  0\n",
      "  1  1  1  0  0  0 -1  1  0  0 -1  0  1  1  1 -1  1  1 -1  1 -1 -1  1  1\n",
      "  1  1  0  1  1  1 -1  1  1  0 -1  1  0  0  1  1  1  0  1 -1  1  1 -1  1\n",
      "  0  1  1  1  0  0  0  1  0  0  0  0  1 -1  0  0  1 -1 -1  1  1  0 -1  1\n",
      "  1  0  0  1  1  0  0  0  1 -1  0  1 -1 -1  1  0 -1  1  0 -1  0  1  1  1\n",
      "  0  0  0 -1  1 -1  0  0  0 -1  0  1  0  0  1  1  1  1 -1  0  0  1  0  0\n",
      "  0  1  1  0  0  0  0  0  0 -1  0  0 -1  0  1  1  0  1  0  0 -1  1  0  1\n",
      "  1  1  1  1  1  1  0  1  1  1  1  0  0  0  0  1  1  0  0  1  0  1  0  1\n",
      "  1  0  1  0  0  1  1  1  1  1  1 -1  0  0  1  0 -1 -1  1 -1  1  1 -1  1\n",
      " -1 -1  1  1  1  1  1  0  0  1 -1  1  0  0 -1 -1 -1  0 -1  0  0  0  0  0\n",
      "  0  1  0 -1  1  0 -1 -1  1  1  0 -1 -1  0 -1 -1  1  1  1 -1 -1  1  0  0\n",
      "  1  1  0  1 -1  0 -1  1  1 -1  0 -1  0  1  1  0  1  1  1  1 -1 -1 -1  1\n",
      "  1 -1  0  0  1 -1 -1 -1  1  0 -1  1 -1  1  1 -1  1  0  1  1 -1 -1  1  1\n",
      "  0  0 -1  1  1  1  1  1  1  0  1  1  0  1  1  0  1  0  0  0 -1 -1  1  1\n",
      "  1 -1  0 -1  1  1  0 -1  0 -1  1  1 -1  0  0  1  1  1  0  1 -1  1  1  0\n",
      "  0 -1  0  0  1  1  1 -1  0  0  0  1  1  1  1  1  1  0  0  0  1 -1 -1 -1\n",
      " -1  1  0  1  0  0  1  0  1 -1  1 -1 -1  0 -1 -1 -1 -1  1  1 -1 -1  0  1\n",
      "  1  1  1  0  0  1  1]\n",
      "[ 0  0  1  0  0  1  0  0  0  0  1  0 -1  0  0  0  0  0  1  1  0  0  1  1\n",
      "  1  0  1  0  1  0  0  0  0  0  0  1  1  1  0  1  1 -1  0  0  0 -1  1  0\n",
      "  0 -1  1  0  1 -1  0  0  1  1  1  1  1  1  0  1  0  1  1  0  0  1  0  1\n",
      "  0  1  1  1  1  0  0  0  1  1  1  1  1  1  1 -1  1  1  1  1 -1  0  0  0\n",
      "  0  1  1  0  0  0  0  1  1  1  0  1  0  0  0  0  1  0  0  0  0  0  0 -1\n",
      "  1  1  0 -1  0  1  1  1  1  0  1  1  1  1  1  1  1  1  1  1  0  0  0  1\n",
      "  0  0  0  1  0  0  0  0  0  0  0  0  0  1  1  1  1  1  1  0  1  0  1  1\n",
      "  0  0  0  0  0  0  1  1  1  1  1  1  0  0  1  0  1  0  0  0  1  0  1  1\n",
      "  1  0  0  1  1  0  0  0  0  1  0  1  0  0  1  1  0  1  1  1  1  0  1  1\n",
      "  1  1  1  1  0  0  1  1  0  0  0  0  0  1  1  0  1  0  0  1  0  0  0  1\n",
      "  1  1  1  0  1  1  0  0  1  1  0  1  1  1  1  1 -1 -1  1  0  1  0  1  1\n",
      "  1  1  0  1  0  0  1  1  1  0  1  1  1  0  1  0  0  1  1  0  0  0  0  0\n",
      "  1  1  1  0  0  0  0  1  0  0  1  0  1  1  1  1  1  1  0  1  0  0  1  1\n",
      "  1  1  0  1  1  1 -1  1  1  0  0  1  0  0  1  1  1  0  1  1  1  1  1  1\n",
      "  0  1  1  1  0  0  0  1  0  0  0  0  1  1  0  0  1  1  1  1  1  0  1  1\n",
      "  1  0  0  1  1  0  0  0  1  1  0  1  0  1  1  0  1  1  0  1  0  1  1  1\n",
      "  0  0  0  1  1  0  0  0  0  1  0  1  0  0  1  1  1  1  1  0  0  1  0  0\n",
      "  0  1  1  0  0  0  0  0  0  0  0  0 -1  0  1  1  0  1  0  0  0  1  0  1\n",
      "  1  1  1  1  1  1  0  1  1  1  1  0  0  0  0  1  1  0  0  1  0  1  0  1\n",
      "  1  0  1  0  0  1  1  1  1  1  1  0  0  0  1  0  1  0  1  0  1  1  0  1\n",
      "  0  0  1  1  1  1  1  0  0  1  0  1  0  0  0  1  1  0  1  0  0  0  0  0\n",
      "  0  1  0  0  1  0  1  1  1  1  0 -1 -1  0  0  0  1  1  1  0  0  1  0  0\n",
      "  1  1  0  1  0  0  0  1  1  0  0  0  0  1  1  0  1  1  1  1  0  0  1  1\n",
      "  1  1  0  0  1  0 -1  0  1  0 -1  1  1  1  1  1  1  0  1  1 -1  0  1  1\n",
      "  0  0  0  1  1  1  1  1  1  0  1  1  0  1  1  0  1  0  0  0  0  1  1  1\n",
      "  1  0  0  0  1  1  0  0  0  1  1  1  1  0  0  1  1  1  0  1  0  1  1  0\n",
      "  0  1  0  0  1  1  1 -1  0  0  0  1  1  1  1  1  1  0  0  0  1  1 -1  1\n",
      "  0  1  0  1  0  0  1  0  1  0  1 -1 -1  0  0 -1  0  1  1  1  1  1  0  1\n",
      "  1  1  1  0  0  1  1]\n",
      "[ 0  0  1  0  0  1  0  0  0  0  1  0  1  0  0  0  0  0  1  1  0  0  1  1\n",
      "  1  0  1  0  1  0  0  0  0  0  0  1  1  1  0  1  1  1  0  0  0  1  1  0\n",
      "  0  1  1  0  1  0  0  0  1  1  1  1  1  1  0  1  0  1  1  0  0  1  0  1\n",
      "  0  1  1  1  1  0  0  0  1  1  1  1  1  1  1  0  1  1  1  1  1  0  0  0\n",
      "  0  1  1  0  0  0  0  1  1  1  0  1  0  0  0  0  1  0  0  0  0  0  0  1\n",
      "  1  1  0  1  0  1  1  1  1  0  1  1  1  1  1  1  1  1  1  1  0  0  0  1\n",
      "  0  0  0  1  0  0  0  0  0  0  0  0  0  1  1  1  1  1  1  0  1  0  1  1\n",
      "  0  0  0  0  0  0  1  1  1  1  1  1  0  0  1  0  1  0  0  0  1  0  1  1\n",
      "  1  0  0  1  1  0  0  0  0  1  0  1  0  0  1  1  0  1  1  1  1  0  1  1\n",
      "  1  1  1  1  0  0  1  1  0  0  0  0  0  1  1  0  1  0  0  1  0  0  0  1\n",
      "  1  1  1  0  1  1  0  0  1  1  0  1  1  1  1  1  0  0  1  0  1  0  1  1\n",
      "  1  1  0  1  0  0  1  1  1  0  1  1  1  0  1  0  0  1  1  0  0  0  0  0\n",
      "  1  1  1  0  0  0  0  1  0  0  1  0  1  1  1  1  1  1  0  1  0  0  1  1\n",
      "  1  1  0  1  1  1  0  1  1  0  0  1  0  0  1  1  1  0  1  1  1  1  1  1\n",
      "  0  1  1  1  0  0  0  1  0  0  0  0  1  1  0  0  1  1  1  1  1  0  1  1\n",
      "  1  0  0  1  1  0  0  0  1  1  0  1  0  1  1  0  1  1  0  1  0  1  1  1\n",
      "  0  0  0  1  1  0  0  0  0  1  0  1  0  0  1  1  1  1  1  0  0  1  0  0\n",
      "  0  1  1  0  0  0  0  0  0  0  0  0  0  0  1  1  0  1  0  0  0  1  0  1\n",
      "  1  1  1  1  1  1  0  1  1  1  1  0  0  0  0  1  1  0  0  1  0  1  0  1\n",
      "  1  0  1  0  0  1  1  1  1  1  1  0  0  0  1  0  1  0  1  0  1  1  0  1\n",
      "  0  0  1  1  1  1  1  0  0  1  0  1  0  0  0  1  1  0  1  0  0  0  0  0\n",
      "  0  1  0  0  1  0  1  1  1  1  0  0  1  0  0  0  1  1  1  0  0  1  0  0\n",
      "  1  1  0  1  0  0  0  1  1  0  0  0  0  1  1  0  1  1  1  1  0  0  1  1\n",
      "  1  1  0  0  1  0 -1  0  1  0  1  1  1  1  1  1  1  0  1  1  1  0  1  1\n",
      "  0  0  0  1  1  1  1  1  1  0  1  1  0  1  1  0  1  0  0  0  0  1  1  1\n",
      "  1  0  0  0  1  1  0  0  0  1  1  1  1  0  0  1  1  1  0  1  0  1  1  0\n",
      "  0  1  0  0  1  1  1  0  0  0  0  1  1  1  1  1  1  0  0  0  1  1  0  1\n",
      "  0  1  0  1  0  0  1  0  1  0  1  1  1  0  0  0  0  1  1  1  1  1  0  1\n",
      "  1  1  1  0  0  1  1]\n",
      "[0 0 1 0 0 1 0 0 0 0 1 0 1 0 0 0 0 0 1 1 0 0 1 1 1 0 1 0 1 0 0 0 0 0 0 1 1\n",
      " 1 0 1 1 1 0 0 0 1 1 0 0 1 1 0 1 0 0 0 1 1 1 1 1 1 0 1 0 1 1 0 0 1 0 1 0 1\n",
      " 1 1 1 0 0 0 1 1 1 1 1 1 1 0 1 1 1 1 1 0 0 0 0 1 1 0 0 0 0 1 1 1 0 1 0 0 0\n",
      " 0 1 0 0 0 0 0 0 1 1 1 0 1 0 1 1 1 1 0 1 1 1 1 1 1 1 1 1 1 0 0 0 1 0 0 0 1\n",
      " 0 0 0 0 0 0 0 0 0 1 1 1 1 1 1 0 1 0 1 1 0 0 0 0 0 0 1 1 1 1 1 1 0 0 1 0 1\n",
      " 0 0 0 1 0 1 1 1 0 0 1 1 0 0 0 0 1 0 1 0 0 1 1 0 1 1 1 1 0 1 1 1 1 1 1 0 0\n",
      " 1 1 0 0 0 0 0 1 1 0 1 0 0 1 0 0 0 1 1 1 1 0 1 1 0 0 1 1 0 1 1 1 1 1 0 0 1\n",
      " 0 1 0 1 1 1 1 0 1 0 0 1 1 1 0 1 1 1 0 1 0 0 1 1 0 0 0 0 0 1 1 1 0 0 0 0 1\n",
      " 0 0 1 0 1 1 1 1 1 1 0 1 0 0 1 1 1 1 0 1 1 1 0 1 1 0 0 1 0 0 1 1 1 0 1 1 1\n",
      " 1 1 1 0 1 1 1 0 0 0 1 0 0 0 0 1 1 0 0 1 1 1 1 1 0 1 1 1 0 0 1 1 0 0 0 1 1\n",
      " 0 1 0 1 1 0 1 1 0 1 0 1 1 1 0 0 0 1 1 0 0 0 0 1 0 1 0 0 1 1 1 1 1 0 0 1 0\n",
      " 0 0 1 1 0 0 0 0 0 0 0 0 0 0 0 1 1 0 1 0 0 0 1 0 1 1 1 1 1 1 1 0 1 1 1 1 0\n",
      " 0 0 0 1 1 0 0 1 0 1 0 1 1 0 1 0 0 1 1 1 1 1 1 0 0 0 1 0 1 0 1 0 1 1 0 1 0\n",
      " 0 1 1 1 1 1 0 0 1 0 1 0 0 0 1 1 0 1 0 0 0 0 0 0 1 0 0 1 0 1 1 1 1 0 0 1 0\n",
      " 0 0 1 1 1 0 0 1 0 0 1 1 0 1 0 0 0 1 1 0 0 0 0 1 1 0 1 1 1 1 0 0 1 1 1 1 0\n",
      " 0 1 0 0 0 1 0 1 1 1 1 1 1 1 0 1 1 1 0 1 1 0 0 0 1 1 1 1 1 1 0 1 1 0 1 1 0\n",
      " 1 0 0 0 0 1 1 1 1 0 0 0 1 1 0 0 0 1 1 1 1 0 0 1 1 1 0 1 0 1 1 0 0 1 0 0 1\n",
      " 1 1 0 0 0 0 1 1 1 1 1 1 0 0 0 1 1 0 1 0 1 0 1 0 0 1 0 1 0 1 1 1 0 0 0 0 1\n",
      " 1 1 1 1 0 1 1 1 1 0 0 1 1]\n",
      "[0 0 1 0 0 1 0 0 0 0 1 0 1 0 0 0 0 0 1 1 0 0 1 1 1 0 1 0 1 0 0 0 0 0 0 1 1\n",
      " 1 0 1 1 1 0 0 0 1 1 0 0 1 1 0 1 0 0 0 1 1 1 1 1 1 0 1 0 1 1 0 0 1 0 1 0 1\n",
      " 1 1 1 0 0 0 1 1 1 1 1 1 1 0 1 1 1 1 1 0 0 0 0 1 1 0 0 0 0 1 1 1 0 1 0 0 0\n",
      " 0 1 0 0 0 0 0 0 1 1 1 0 1 0 1 1 1 1 0 1 1 1 1 1 1 1 1 1 1 0 0 0 1 0 0 0 1\n",
      " 0 0 0 0 0 0 0 0 0 1 1 1 1 1 1 0 1 0 1 1 0 0 0 0 0 0 1 1 1 1 1 1 0 0 1 0 1\n",
      " 0 0 0 1 0 1 1 1 0 0 1 1 0 0 0 0 1 0 1 0 0 1 1 0 1 1 1 1 0 1 1 1 1 1 1 0 0\n",
      " 1 1 0 0 0 0 0 1 1 0 1 0 0 1 0 0 0 1 1 1 1 0 1 1 0 0 1 1 0 1 1 1 1 1 0 0 1\n",
      " 0 1 0 1 1 1 1 0 1 0 0 1 1 1 0 1 1 1 0 1 0 0 1 1 0 0 0 0 0 1 1 1 0 0 0 0 1\n",
      " 0 0 1 0 1 1 1 1 1 1 0 1 0 0 1 1 1 1 0 1 1 1 0 1 1 0 0 1 0 0 1 1 1 0 1 1 1\n",
      " 1 1 1 0 1 1 1 0 0 0 1 0 0 0 0 1 1 0 0 1 1 1 1 1 0 1 1 1 0 0 1 1 0 0 0 1 1\n",
      " 0 1 0 1 1 0 1 1 0 1 0 1 1 1 0 0 0 1 1 0 0 0 0 1 0 1 0 0 1 1 1 1 1 0 0 1 0\n",
      " 0 0 1 1 0 0 0 0 0 0 0 0 0 0 0 1 1 0 1 0 0 0 1 0 1 1 1 1 1 1 1 0 1 1 1 1 0\n",
      " 0 0 0 1 1 0 0 1 0 1 0 1 1 0 1 0 0 1 1 1 1 1 1 0 0 0 1 0 1 0 1 0 1 1 0 1 0\n",
      " 0 1 1 1 1 1 0 0 1 0 1 0 0 0 1 1 0 1 0 0 0 0 0 0 1 0 0 1 0 1 1 1 1 0 0 1 0\n",
      " 0 0 1 1 1 0 0 1 0 0 1 1 0 1 0 0 0 1 1 0 0 0 0 1 1 0 1 1 1 1 0 0 1 1 1 1 0\n",
      " 0 1 0 0 0 1 0 1 1 1 1 1 1 1 0 1 1 1 0 1 1 0 0 0 1 1 1 1 1 1 0 1 1 0 1 1 0\n",
      " 1 0 0 0 0 1 1 1 1 0 0 0 1 1 0 0 0 1 1 1 1 0 0 1 1 1 0 1 0 1 1 0 0 1 0 0 1\n",
      " 1 1 0 0 0 0 1 1 1 1 1 1 0 0 0 1 1 0 1 0 1 0 1 0 0 1 0 1 0 1 1 1 0 0 0 0 1\n",
      " 1 1 1 1 0 1 1 1 1 0 0 1 1]\n",
      "[0 0 1 0 0 1 0 0 0 0 1 0 1 0 0 0 0 0 1 1 0 0 1 1 1 0 1 0 1 0 0 0 0 0 0 1 1\n",
      " 1 0 1 1 1 0 0 0 1 1 0 0 1 1 0 1 0 0 0 1 1 1 1 1 1 0 1 0 1 1 0 0 1 0 1 0 1\n",
      " 1 1 1 0 0 0 1 1 1 1 1 1 1 0 1 1 1 1 1 0 0 0 0 1 1 0 0 0 0 1 1 1 0 1 0 0 0\n",
      " 0 1 0 0 0 0 0 0 1 1 1 0 1 0 1 1 1 1 0 1 1 1 1 1 1 1 1 1 1 0 0 0 1 0 0 0 1\n",
      " 0 0 0 0 0 0 0 0 0 1 1 1 1 1 1 0 1 0 1 1 0 0 0 0 0 0 1 1 1 1 1 1 0 0 1 0 1\n",
      " 0 0 0 1 0 1 1 1 0 0 1 1 0 0 0 0 1 0 1 0 0 1 1 0 1 1 1 1 0 1 1 1 1 1 1 0 0\n",
      " 1 1 0 0 0 0 0 1 1 0 1 0 0 1 0 0 0 1 1 1 1 0 1 1 0 0 1 1 0 1 1 1 1 1 0 0 1\n",
      " 0 1 0 1 1 1 1 0 1 0 0 1 1 1 0 1 1 1 0 1 0 0 1 1 0 0 0 0 0 1 1 1 0 0 0 0 1\n",
      " 0 0 1 0 1 1 1 1 1 1 0 1 0 0 1 1 1 1 0 1 1 1 0 1 1 0 0 1 0 0 1 1 1 0 1 1 1\n",
      " 1 1 1 0 1 1 1 0 0 0 1 0 0 0 0 1 1 0 0 1 1 1 1 1 0 1 1 1 0 0 1 1 0 0 0 1 1\n",
      " 0 1 0 1 1 0 1 1 0 1 0 1 1 1 0 0 0 1 1 0 0 0 0 1 0 1 0 0 1 1 1 1 1 0 0 1 0\n",
      " 0 0 1 1 0 0 0 0 0 0 0 0 0 0 0 1 1 0 1 0 0 0 1 0 1 1 1 1 1 1 1 0 1 1 1 1 0\n",
      " 0 0 0 1 1 0 0 1 0 1 0 1 1 0 1 0 0 1 1 1 1 1 1 0 0 0 1 0 1 0 1 0 1 1 0 1 0\n",
      " 0 1 1 1 1 1 0 0 1 0 1 0 0 0 1 1 0 1 0 0 0 0 0 0 1 0 0 1 0 1 1 1 1 0 0 1 0\n",
      " 0 0 1 1 1 0 0 1 0 0 1 1 0 1 0 0 0 1 1 0 0 0 0 1 1 0 1 1 1 1 0 0 1 1 1 1 0\n",
      " 0 1 0 0 0 1 0 1 1 1 1 1 1 1 0 1 1 1 0 1 1 0 0 0 1 1 1 1 1 1 0 1 1 0 1 1 0\n",
      " 1 0 0 0 0 1 1 1 1 0 0 0 1 1 0 0 0 1 1 1 1 0 0 1 1 1 0 1 0 1 1 0 0 1 0 0 1\n",
      " 1 1 0 0 0 0 1 1 1 1 1 1 0 0 0 1 1 0 1 0 1 0 1 0 0 1 0 1 0 1 1 1 0 0 0 0 1\n",
      " 1 1 1 1 0 1 1 1 1 0 0 1 1]\n"
     ]
    }
   ],
   "source": [
    "for eps in range(3,10):\n",
    "    dbscan=DBSCAN(eps=eps/10,min_samples=7).fit(filteredData)\n",
    "    print(dbscan.labels_)"
   ]
  },
  {
   "cell_type": "code",
   "execution_count": 69,
   "metadata": {},
   "outputs": [
    {
     "name": "stdout",
     "output_type": "stream",
     "text": [
      "[ 0  0  1  0  0  1  0  0  0  0  1  0 -1  0 -1  0  0 -1  1  1  0  0  1 -1\n",
      "  1  0  1  0  1  0  0  0  0  0  0  1 -1  1 -1  1 -1 -1  0  0  0 -1  1  0\n",
      " -1 -1 -1 -1  1 -1  0  0 -1  1  1 -1  1  1  0 -1  0 -1  1  0  0  1  0  1\n",
      "  0 -1  1  1  1  0 -1  0  1  1  1  1  1  1  1 -1 -1  1  1 -1 -1  0  0  0\n",
      " -1  1  1 -1  0  0  0  1  1 -1 -1 -1  0  0  0  0  1  0  0  0  0  0  0 -1\n",
      "  1 -1 -1 -1 -1  1  1 -1  1 -1 -1  1  1  1  1  1  1  1  1  1 -1 -1 -1  1\n",
      " -1  0 -1  1 -1  0 -1  0  0  0 -1  0  0  1 -1  1  1  1  1 -1  1 -1 -1  1\n",
      " -1  0  0 -1 -1  0  1  1  1  1  1  1  0  0  1  0  1  0  0  0 -1  0 -1  1\n",
      "  1 -1  0  1  1  0  0 -1  0  1  0  1  0  0  1  1  0  1  1  1  1  0  1  1\n",
      "  1  1  1  1  0  0  1  1  0  0  0  0  0  1  1 -1  1 -1 -1  1 -1 -1  0  1\n",
      "  1 -1  1 -1 -1  1  0  0  1  1  0  1  1  1  1  1 -1 -1  1 -1  1 -1  1  1\n",
      "  1  1  0  1  0  0  1  1  1  0  1  1  1  0 -1  0 -1  1  1  0 -1  0 -1  0\n",
      "  1  1  1  0  0  0 -1  1  0  0 -1  0  1  1  1 -1  1  1 -1  1 -1 -1  1  1\n",
      "  1  1  0  1  1  1 -1  1  1  0 -1  1  0  0  1  1  1  0  1 -1  1  1 -1  1\n",
      "  0  1  1  1  0  0  0  1  0  0  0  0  1 -1  0  0  1 -1 -1  1  1  0 -1  1\n",
      "  1  0  0  1  1  0  0  0  1 -1  0  1 -1 -1  1  0 -1  1  0 -1  0  1  1  1\n",
      "  0  0  0 -1  1 -1  0  0  0 -1  0  1  0  0  1  1  1  1 -1  0  0  1  0  0\n",
      "  0  1  1  0  0  0  0  0  0 -1  0  0 -1  0  1  1  0  1  0  0 -1  1  0  1\n",
      "  1  1  1  1  1  1  0  1  1  1  1  0  0  0  0  1  1  0  0  1  0  1  0  1\n",
      "  1  0  1  0  0  1  1  1  1  1  1 -1  0  0  1  0 -1 -1  1 -1  1  1 -1  1\n",
      " -1 -1  1  1  1  1  1  0  0  1 -1  1  0  0 -1 -1 -1  0 -1  0  0  0  0  0\n",
      "  0  1  0 -1  1  0 -1 -1  1  1  0 -1 -1  0 -1 -1  1  1  1 -1 -1  1  0  0\n",
      "  1  1  0  1 -1  0 -1  1  1 -1  0 -1  0  1  1  0  1  1  1  1 -1 -1 -1  1\n",
      "  1 -1  0  0  1 -1 -1 -1  1  0 -1  1 -1  1  1 -1  1  0  1  1 -1 -1  1  1\n",
      "  0  0 -1  1  1  1  1  1  1  0  1  1  0  1  1  0  1  0  0  0 -1 -1  1  1\n",
      "  1 -1  0 -1  1  1  0 -1  0 -1  1  1 -1  0  0  1  1  1  0  1 -1  1  1  0\n",
      "  0 -1  0  0  1  1  1 -1  0  0  0  1  1  1  1  1  1  0  0  0  1 -1 -1 -1\n",
      " -1  1  0  1  0  0  1  0  1 -1  1 -1 -1  0 -1 -1 -1 -1  1  1 -1 -1  0  1\n",
      "  1  1  1  0  0  1  1]\n"
     ]
    }
   ],
   "source": [
    "dbscan=DBSCAN(eps=0.4,min_samples=7).fit(filteredData)\n",
    "print(dbscan.labels_)\n",
    "\n",
    "\n",
    "# 0.6 100"
   ]
  },
  {
   "cell_type": "code",
   "execution_count": 70,
   "metadata": {},
   "outputs": [
    {
     "name": "stdout",
     "output_type": "stream",
     "text": [
      "Adjusted Rand Index: 0.007141404853813233\n",
      "Homogeneity: 0.017389148202523384\n",
      "Completeness: 0.007923444993298142\n",
      "V-Measure: 0.010886435711829606\n"
     ]
    }
   ],
   "source": [
    "true_labels=data[\"CLASS\"].values\n",
    "\n",
    "ari = adjusted_rand_score(true_labels, dbscan.labels_)\n",
    "homogeneity = homogeneity_score(true_labels, dbscan.labels_)\n",
    "completeness = completeness_score(true_labels, dbscan.labels_)\n",
    "v_measure = v_measure_score(true_labels, dbscan.labels_)\n",
    "\n",
    "print(f\"Adjusted Rand Index: {ari}\")\n",
    "print(f\"Homogeneity: {homogeneity}\")\n",
    "print(f\"Completeness: {completeness}\")\n",
    "print(f\"V-Measure: {v_measure}\")"
   ]
  },
  {
   "cell_type": "markdown",
   "metadata": {},
   "source": [
    "### silhouette Score"
   ]
  },
  {
   "cell_type": "code",
   "execution_count": 71,
   "metadata": {},
   "outputs": [
    {
     "name": "stdout",
     "output_type": "stream",
     "text": [
      "silhouette Score : 0.21511042623299215\n"
     ]
    }
   ],
   "source": [
    "dbscan_sil_score=silhouette_score(filteredData, dbscan.labels_)\n",
    "print(f'silhouette Score : {dbscan_sil_score}')"
   ]
  },
  {
   "cell_type": "markdown",
   "metadata": {},
   "source": [
    "## KMeans"
   ]
  },
  {
   "cell_type": "code",
   "execution_count": 72,
   "metadata": {},
   "outputs": [
    {
     "data": {
      "text/plain": [
       "array([2, 2, 0, 2, 2, 0, 2, 2, 2, 2, 0, 2, 0, 2, 2, 2, 2, 2, 0, 0, 2, 2,\n",
       "       0, 0, 0, 2, 0, 2, 0, 2, 2, 2, 2, 2, 2, 0, 0, 0, 2, 0, 0, 0, 2, 2,\n",
       "       2, 0, 0, 2, 2, 0, 0, 2, 0, 2, 2, 2, 0, 0, 0, 0, 0, 0, 2, 0, 2, 0,\n",
       "       0, 2, 2, 0, 2, 0, 2, 0, 0, 0, 0, 2, 2, 2, 0, 0, 0, 0, 0, 0, 0, 2,\n",
       "       0, 0, 0, 0, 0, 1, 1, 2, 2, 0, 0, 2, 2, 2, 2, 0, 0, 0, 2, 0, 1, 1,\n",
       "       2, 2, 0, 2, 2, 2, 2, 2, 2, 0, 0, 0, 2, 0, 1, 0, 0, 0, 0, 1, 0, 0,\n",
       "       0, 0, 0, 0, 0, 0, 0, 0, 1, 1, 1, 0, 1, 1, 1, 0, 1, 1, 2, 1, 1, 1,\n",
       "       2, 1, 1, 0, 0, 0, 0, 0, 0, 1, 0, 1, 0, 0, 1, 1, 1, 1, 1, 1, 0, 0,\n",
       "       0, 0, 0, 0, 1, 1, 0, 2, 0, 2, 1, 1, 0, 1, 0, 0, 0, 1, 1, 0, 0, 1,\n",
       "       1, 1, 1, 0, 1, 0, 1, 1, 0, 0, 1, 0, 0, 0, 0, 1, 0, 0, 0, 0, 0, 0,\n",
       "       1, 1, 0, 0, 1, 1, 2, 2, 1, 0, 0, 1, 0, 1, 1, 0, 1, 1, 1, 0, 0, 0,\n",
       "       0, 1, 0, 0, 2, 1, 0, 0, 2, 0, 0, 0, 0, 0, 1, 1, 0, 1, 0, 1, 0, 0,\n",
       "       0, 0, 1, 0, 1, 1, 0, 0, 0, 1, 0, 0, 0, 1, 0, 1, 1, 0, 0, 1, 1, 1,\n",
       "       1, 1, 0, 0, 0, 1, 1, 1, 1, 0, 1, 1, 0, 1, 0, 0, 0, 0, 0, 0, 1, 0,\n",
       "       1, 1, 0, 0, 0, 0, 1, 0, 0, 0, 1, 0, 0, 1, 1, 0, 1, 1, 0, 0, 0, 1,\n",
       "       0, 0, 0, 0, 0, 0, 1, 0, 0, 0, 1, 1, 1, 0, 1, 1, 1, 1, 0, 0, 1, 1,\n",
       "       0, 0, 0, 0, 0, 1, 0, 0, 0, 1, 1, 0, 0, 1, 1, 1, 0, 0, 1, 0, 1, 0,\n",
       "       0, 1, 0, 0, 1, 0, 1, 0, 0, 0, 1, 1, 2, 0, 0, 1, 1, 1, 1, 0, 1, 0,\n",
       "       1, 1, 0, 0, 0, 0, 0, 1, 1, 0, 1, 2, 1, 0, 0, 1, 1, 1, 1, 1, 1, 1,\n",
       "       1, 1, 1, 1, 0, 0, 1, 0, 1, 1, 1, 0, 1, 0, 0, 0, 0, 0, 0, 0, 1, 0,\n",
       "       0, 0, 0, 1, 1, 1, 1, 0, 0, 1, 1, 0, 1, 0, 1, 0, 0, 1, 0, 1, 1, 0,\n",
       "       0, 0, 0, 0, 0, 1, 1, 1, 0, 1, 0, 1, 0, 1, 0, 0, 1, 0, 1, 1, 0, 0,\n",
       "       0, 0, 0, 1, 1, 0, 1, 0, 1, 1, 1, 0, 0, 1, 0, 1, 1, 1, 1, 1, 1, 0,\n",
       "       2, 1, 0, 1, 0, 0, 0, 0, 1, 1, 0, 1, 1, 1, 0, 0, 0, 1, 1, 0, 2, 1,\n",
       "       0, 0, 1, 0, 1, 1, 1, 0, 0, 1, 1, 1, 1, 0, 0, 2, 0, 0, 0, 0, 1, 1,\n",
       "       0, 0, 0, 0, 1, 1, 0, 1, 1, 1, 0, 1, 0, 0, 0, 0, 0, 0, 0, 1, 0, 0,\n",
       "       0, 1, 0, 0, 1, 1, 1, 0, 0, 0, 0, 0, 0, 2, 0, 0, 1, 0, 0, 2, 0, 2,\n",
       "       2, 1, 1, 0, 0, 0, 0, 2, 2, 2, 0, 0, 1, 1, 1, 0, 0, 0, 0, 1, 2, 0,\n",
       "       0, 0, 1, 0, 1, 0, 0, 1, 1, 0, 1, 1, 0, 0, 0, 1, 2, 1, 1, 0, 0, 0,\n",
       "       0, 0, 0, 1, 1, 1, 0, 0, 1, 0, 1, 0, 1, 0, 1, 1, 0, 1, 0, 1, 0, 0,\n",
       "       0, 2, 2, 2, 1, 0, 0, 0, 0, 0, 1, 0, 0, 0, 0, 1, 1, 0, 0])"
      ]
     },
     "execution_count": 72,
     "metadata": {},
     "output_type": "execute_result"
    }
   ],
   "source": [
    "kmeans=KMeans(n_clusters=3,random_state=42,max_iter=500).fit(filteredData)\n",
    "kmeans.labels_\n"
   ]
  },
  {
   "cell_type": "markdown",
   "metadata": {},
   "source": [
    "### Assigning true label for test measures "
   ]
  },
  {
   "cell_type": "code",
   "execution_count": 73,
   "metadata": {},
   "outputs": [],
   "source": [
    "true_labels=data[\"CLASS\"].values\n"
   ]
  },
  {
   "cell_type": "code",
   "execution_count": 74,
   "metadata": {},
   "outputs": [
    {
     "name": "stdout",
     "output_type": "stream",
     "text": [
      "Adjusted Rand Index: 0.08849147786592193\n",
      "Homogeneity: 0.22367478485361306\n",
      "Completeness: 0.11312573833297632\n",
      "V-Measure: 0.15025733893540535\n"
     ]
    }
   ],
   "source": [
    "ari = adjusted_rand_score(true_labels, kmeans.labels_)\n",
    "homogeneity = homogeneity_score(true_labels, kmeans.labels_)\n",
    "completeness = completeness_score(true_labels, kmeans.labels_)\n",
    "v_measure = v_measure_score(true_labels, kmeans.labels_)\n",
    "\n",
    "print(f\"Adjusted Rand Index: {ari}\")\n",
    "print(f\"Homogeneity: {homogeneity}\")\n",
    "print(f\"Completeness: {completeness}\")\n",
    "print(f\"V-Measure: {v_measure}\")\n"
   ]
  },
  {
   "cell_type": "markdown",
   "metadata": {},
   "source": [
    "### silhouette Score "
   ]
  },
  {
   "cell_type": "code",
   "execution_count": 75,
   "metadata": {},
   "outputs": [
    {
     "name": "stdout",
     "output_type": "stream",
     "text": [
      "silhouette Score : 0.2940720342819768\n"
     ]
    }
   ],
   "source": [
    "Kmeans_sil_score=silhouette_score(filteredData, kmeans.labels_)\n",
    "print(f'silhouette Score : {Kmeans_sil_score}')\n"
   ]
  },
  {
   "cell_type": "markdown",
   "metadata": {},
   "source": [
    "## K medoid Model"
   ]
  },
  {
   "cell_type": "code",
   "execution_count": 76,
   "metadata": {},
   "outputs": [],
   "source": [
    "kmedoids = KMedoids(n_clusters=3, random_state=42,max_iter=1000)\n",
    "kmedoids.fit(filteredData)\n",
    "kmedoids_sil_score=silhouette_score(filteredData, kmedoids.labels_)"
   ]
  },
  {
   "cell_type": "markdown",
   "metadata": {},
   "source": [
    "### silhouette Score "
   ]
  },
  {
   "cell_type": "code",
   "execution_count": 77,
   "metadata": {},
   "outputs": [
    {
     "name": "stdout",
     "output_type": "stream",
     "text": [
      "silhouette Score : 0.24059249096296076\n"
     ]
    }
   ],
   "source": [
    "print(f'silhouette Score : {kmedoids_sil_score}')"
   ]
  },
  {
   "cell_type": "markdown",
   "metadata": {},
   "source": [
    "### Test model with ARI,Homogeneity,Completeness and V measures"
   ]
  },
  {
   "cell_type": "code",
   "execution_count": 78,
   "metadata": {},
   "outputs": [
    {
     "name": "stdout",
     "output_type": "stream",
     "text": [
      "Adjusted Rand Index: 0.1058826008186639\n",
      "Homogeneity: 0.2451691156855826\n",
      "Completeness: 0.12000016368767775\n",
      "V-Measure: 0.16113257973905803\n"
     ]
    }
   ],
   "source": [
    "ari = adjusted_rand_score(true_labels, kmedoids.labels_)\n",
    "homogeneity = homogeneity_score(true_labels, kmedoids.labels_)\n",
    "completeness = completeness_score(true_labels, kmedoids.labels_)\n",
    "v_measure = v_measure_score(true_labels, kmedoids.labels_)\n",
    "\n",
    "print(f\"Adjusted Rand Index: {ari}\")\n",
    "print(f\"Homogeneity: {homogeneity}\")\n",
    "print(f\"Completeness: {completeness}\")\n",
    "print(f\"V-Measure: {v_measure}\")\n"
   ]
  },
  {
   "cell_type": "markdown",
   "metadata": {},
   "source": [
    "### label distribution "
   ]
  },
  {
   "cell_type": "code",
   "execution_count": 79,
   "metadata": {},
   "outputs": [
    {
     "name": "stdout",
     "output_type": "stream",
     "text": [
      "KMedoids labels distribution\n",
      "{0: 319, 1: 94, 2: 266}\n",
      "true labels distribution\n",
      "{0: 56, 1: 36, 2: 587}\n"
     ]
    }
   ],
   "source": [
    "diab_labels_dict = dict()\n",
    "\n",
    "for i in kmedoids.labels_:\n",
    "    diab_labels_dict[i] = diab_labels_dict.get(i, 0) + 1\n",
    "    \n",
    "print('KMedoids labels distribution')\n",
    "print(diab_labels_dict)\n",
    "diab_labels_dict_true = dict()\n",
    "for i in true_labels:\n",
    "    diab_labels_dict_true[i] = diab_labels_dict_true.get(i, 0) + 1\n",
    "    \n",
    "print('true labels distribution')\n",
    "print(diab_labels_dict_true)"
   ]
  }
 ],
 "metadata": {
  "kernelspec": {
   "display_name": "Python 3",
   "language": "python",
   "name": "python3"
  },
  "language_info": {
   "codemirror_mode": {
    "name": "ipython",
    "version": 3
   },
   "file_extension": ".py",
   "mimetype": "text/x-python",
   "name": "python",
   "nbconvert_exporter": "python",
   "pygments_lexer": "ipython3",
   "version": "3.11.2"
  }
 },
 "nbformat": 4,
 "nbformat_minor": 2
}
